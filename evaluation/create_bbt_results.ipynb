{
 "cells": [
  {
   "cell_type": "code",
   "execution_count": 1,
   "metadata": {},
   "outputs": [],
   "source": [
    "%load_ext autoreload\n",
    "%autoreload 2"
   ]
  },
  {
   "cell_type": "code",
   "execution_count": 4,
   "metadata": {},
   "outputs": [
    {
     "name": "stderr",
     "output_type": "stream",
     "text": [
      "100%|██████████| 84/84 [00:10<00:00,  8.20it/s]\n"
     ]
    }
   ],
   "source": [
    "import sys\n",
    "sys.path.append(\"../utils\")\n",
    "from model_utils import load_model, load_baseline, generate, translate_all\n",
    "from data_utils import get_bbt_data\n",
    "\n",
    "src_texts, tar_texts, prefixed = get_bbt_data(prefix=\">>nob<<\")\n",
    "\n",
    "baseline_model, baseline_tokenizer = load_baseline()\n",
    "baseline_translations = translate_all(src_texts, baseline_model, baseline_tokenizer)"
   ]
  },
  {
   "cell_type": "code",
   "execution_count": 5,
   "metadata": {},
   "outputs": [],
   "source": [
    "from evaluator import Evaluator\n",
    "\n",
    "src_texts, tar_texts, prefixed = get_bbt_data(prefix=\">>nob<<\")"
   ]
  },
  {
   "cell_type": "code",
   "execution_count": null,
   "metadata": {},
   "outputs": [],
   "source": [
    "import os\n",
    "import csv\n",
    "from tqdm.notebook import tqdm\n",
    "\n",
    "evaluator = Evaluator()\n",
    "lang = \"no\"\n",
    "\n",
    "for compression_ratio in [0.5, 0.6, 0.7, 0.8, 0.9, 1.0]:\n",
    "    print(f\"Compression ratio: {compression_ratio}\")\n",
    "    filename = f\"BBT/comp_{compression_ratio}_results.csv\"\n",
    "    os.makedirs(os.path.dirname(filename), exist_ok=True)\n",
    "    print(filename)\n",
    "    with open(filename, \"w\", newline=\"\") as f:\n",
    "        model, tokenizer = load_model(compression_ratio)\n",
    "        translated = translate_all(src_texts, model, tokenizer)\n",
    "\n",
    "        csvdata = evaluator.get_csv_data(\n",
    "            predictions=translated,\n",
    "            references=tar_texts,\n",
    "            source=src_texts,\n",
    "            baselines=baseline_translations,\n",
    "            lang=lang,\n",
    "        )\n",
    "\n",
    "        writer = csv.writer(f)\n",
    "        for data in tqdm(csvdata):\n",
    "            writer.writerow(data)"
   ]
  },
  {
   "cell_type": "code",
   "execution_count": 9,
   "metadata": {},
   "outputs": [],
   "source": [
    "import re\n",
    "import os\n",
    "import pandas as pd\n",
    "\n",
    "eval_path = \"BBT\"\n",
    "search = lambda x: re.search(\"comp_(.*)_results.csv\", x).group(1)\n",
    "decimals = 2\n",
    "\n",
    "translations = {}\n",
    "metrics = {}\n",
    "source = []\n",
    "target = []\n",
    "baseline = []\n",
    "baseline_metrics = []\n",
    "for file in sorted(os.listdir(eval_path), key=search):\n",
    "    if file.endswith(\".csv\"):\n",
    "        compression = search(file)\n",
    "        df = pd.read_csv(os.path.join(eval_path, file))\n",
    "        translations[compression] = df[\"Translation\"].tolist()\n",
    "        metrics[compression] = df[\"Metrics\"].tolist()\n",
    "        if len(baseline) == 0:\n",
    "            source = df[\"Source Text\"].tolist()\n",
    "            target = df[\"Original Target\"].tolist()\n",
    "            baseline = df[\"Baseline\"].tolist()\n",
    "            baseline_metrics = df[\"Baseline Metrics\"].tolist()\n",
    "\n",
    "with open(\"BBT/metric_summary.txt\", \"w\") as f:\n",
    "    for i in range(len(baseline)):\n",
    "        s = f\"Source: {source[i]}\"\n",
    "        s += f\"\\nTarget: {target[i]}\"\n",
    "        s += \"\\n\" + \"- - \"*25\n",
    "        for comp_rate in translations.keys():\n",
    "            s += f\"\\n- {comp_rate}: {translations[comp_rate][i]}\"\n",
    "            _metrics = eval(metrics[comp_rate][i])\n",
    "            # _bleu = _metrics[\"bleu\"]\n",
    "            # _r2 = _metrics[\"r2\"]\n",
    "            # _meteor = _metrics[\"meteor\"]\n",
    "            # _bert = _metrics[\"bertscore\"]\n",
    "            # metric_str = f\"BLEU: {round(_bleu, decimals)}, R2: {round(_r2, decimals)}, METEOR: {round(_meteor, decimals)}, BERTSCORE: {round(_bert, decimals)}\"\n",
    "            # s += f\"\\nMetrics {comp_rate}: {metric_str}\"\n",
    "            s += f\"\\nMetrics:\\n{_metrics}\"\n",
    "        s += \"\\n\" + \"- - \"*25\n",
    "        s += f\"\\nBaseline: {baseline[i]}\"\n",
    "        _baseline_metrics = eval(baseline_metrics[i])\n",
    "        # _baseline_metric_str = f\"BLEU: {round(_baseline_metrics['bleu'], decimals)}, R2: {round(_baseline_metrics['r2'], decimals)}, METEOR: {round(_baseline_metrics['meteor'], decimals)}, BERTSCORE: {round(_baseline_metrics['bertscore'], decimals)}\"\n",
    "        # s += f\"\\nBaseline Metrics: {_baseline_metric_str}\"\n",
    "        s += f\"\\nBaseline metrics:\\n{_baseline_metrics}\"\n",
    "        s += \"\\n\" + \"==\"*50\n",
    "        s += \"\\n\"\n",
    "        # print(s)\n",
    "        f.write(s)\n",
    "        f.write(\"\\n\")"
   ]
  }
 ],
 "metadata": {
  "kernelspec": {
   "display_name": "simcse",
   "language": "python",
   "name": "python3"
  },
  "language_info": {
   "codemirror_mode": {
    "name": "ipython",
    "version": 3
   },
   "file_extension": ".py",
   "mimetype": "text/x-python",
   "name": "python",
   "nbconvert_exporter": "python",
   "pygments_lexer": "ipython3",
   "version": "3.8.10"
  },
  "orig_nbformat": 4
 },
 "nbformat": 4,
 "nbformat_minor": 2
}
