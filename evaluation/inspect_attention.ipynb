{
 "cells": [
  {
   "cell_type": "code",
   "execution_count": 110,
   "metadata": {},
   "outputs": [],
   "source": [
    "from transformers import MarianMTModel, MarianTokenizer, utils\n",
    "from bertviz import model_view\n",
    "utils.logging.set_verbosity_error()  # Suppress standard warnings\n"
   ]
  },
  {
   "cell_type": "code",
   "execution_count": 111,
   "metadata": {},
   "outputs": [],
   "source": [
    "model_id = \"Helsinki-NLP/opus-mt-en-gmq\"\n",
    "\n",
    "model = MarianMTModel.from_pretrained(model_id, output_attentions=True)\n",
    "tokenizer = MarianTokenizer.from_pretrained(model_id)\n"
   ]
  },
  {
   "cell_type": "code",
   "execution_count": 134,
   "metadata": {},
   "outputs": [
    {
     "name": "stdout",
     "output_type": "stream",
     "text": [
      "Er det i orden hvis jeg gir den et nytt forsøk?\n",
      "Enc: 10, Dec: 12\n",
      "torch.Size([1, 8, 12, 10])\n"
     ]
    },
    {
     "data": {
      "text/html": [
       "<script src=\"https://cdnjs.cloudflare.com/ajax/libs/require.js/2.3.6/require.min.js\"></script>"
      ],
      "text/plain": [
       "<IPython.core.display.HTML object>"
      ]
     },
     "metadata": {},
     "output_type": "display_data"
    },
    {
     "data": {
      "text/html": [
       "      \n",
       "        <div id=\"bertviz-a06bda26c23647eba650f55a160d9905\" style=\"font-family:'Helvetica Neue', Helvetica, Arial, sans-serif;\">\n",
       "            <span style=\"user-select:none\">\n",
       "                \n",
       "            </span>\n",
       "            <div id='vis'></div>\n",
       "        </div>\n",
       "    "
      ],
      "text/plain": [
       "<IPython.core.display.HTML object>"
      ]
     },
     "metadata": {},
     "output_type": "display_data"
    },
    {
     "data": {
      "application/javascript": "/**\n * @fileoverview Transformer Visualization D3 javascript code.\n *\n * Based on: https://github.com/tensorflow/tensor2tensor/blob/master/tensor2tensor/visualization/attention.js\n *\n * Change log:\n *\n * 02/01/19  Jesse Vig   Initial implementation\n * 12/31/20  Jesse Vig   Support multiple visualizations in single notebook.\n * 01/19/21  Jesse Vig   Support light/dark modes\n * 02/06/21  Jesse Vig   Move require config from separate jupyter notebook step\n * 05/03/21  Jesse Vig   Adjust visualization height dynamically\n * 03/23/22  Daniel SC   Update requirement URLs for d3 and jQuery (source of bug not allowing end result to be displayed on browsers)\n **/\n\nrequire.config({\n  paths: {\n      d3: 'https://cdnjs.cloudflare.com/ajax/libs/d3/5.7.0/d3.min',\n    jquery: 'https://cdnjs.cloudflare.com/ajax/libs/jquery/2.0.0/jquery.min',\n  }\n});\n\nrequirejs(['jquery', 'd3'], function($, d3) {\n\n        const params = {\"attention\": [{\"name\": \"Cross\", \"attn\": [[[[0.04378778487443924, 0.2100553959608078, 0.025255093351006508, 0.0037087665405124426, 0.004290029406547546, 0.00023224555479828268, 0.005118217319250107, 0.0014629765646532178, 0.0013213236816227436, 0.07340942323207855], [0.032649848610162735, 0.11625757813453674, 0.0771188884973526, 0.001493768417276442, 0.003409304656088352, 0.0038640624843537807, 0.1422351747751236, 0.005601831711828709, 0.005080018658190966, 0.031943947076797485], [0.011692208237946033, 0.16201846301555634, 0.3328099548816681, 0.0013703550212085247, 0.001391615835018456, 0.002767974277958274, 0.008599923923611641, 0.006191542372107506, 0.0022104664240032434, 0.030526569113135338], [0.0011775087332352996, 0.0007346614147536457, 0.027088861912488937, 0.0005007648724131286, 0.0011267579393461347, 0.0017792299622669816, 0.0010229797335341573, 0.0006974099669605494, 0.008687634952366352, 0.007848077453672886], [0.023566704243421555, 0.00923861563205719, 0.008788597770035267, 0.9115387201309204, 0.00032922200625762343, 0.0009170138509944081, 0.0008276293519884348, 0.003042396856471896, 0.0004340735322330147, 0.004069321323186159], [0.01638590544462204, 0.019561732187867165, 0.03270437568426132, 0.03877473995089531, 0.7456703782081604, 0.0020607721526175737, 0.0013450800906866789, 0.004507383797317743, 0.0035722865723073483, 0.018341656774282455], [0.005918045528233051, 0.007492830976843834, 0.02990165539085865, 0.0067189838737249374, 0.02063315361738205, 0.7155452966690063, 0.004400006961077452, 0.03663794323801994, 0.005050040781497955, 0.006192841101437807], [0.008189777843654156, 0.0010952926240861416, 0.005609759595245123, 0.0027021304704248905, 0.00497285695746541, 0.03368056192994118, 0.7748976945877075, 0.01356244646012783, 0.017938535660505295, 0.018504830077290535], [0.004386380314826965, 0.003291760804131627, 0.015545323491096497, 0.0036492631770670414, 0.009170415811240673, 0.006127187050879002, 0.05265865474939346, 0.7012097239494324, 0.010574422776699066, 0.05264806002378464], [0.0004440298362169415, 0.0025927375536412, 0.01439178828150034, 0.001891778432764113, 0.005748554598540068, 0.01107354648411274, 0.008558862842619419, 0.2598692774772644, 0.0755932405591011, 0.022376401349902153], [0.013998891226947308, 0.00340126920491457, 0.03256317600607872, 0.025769716128706932, 0.0026408256962895393, 0.006273271050304174, 0.004317618906497955, 0.014014813117682934, 0.3885762691497803, 0.03915198892354965], [0.08583172410726547, 0.005290954373776913, 0.012234650552272797, 0.0019465641817077994, 0.004076869692653418, 0.002430457156151533, 0.006898540537804365, 0.012620192021131516, 0.002461309777572751, 0.739791750907898]]]], \"left_text\": [\" Er\", \" det\", \" i\", \" orden\", \" hvis\", \" jeg\", \" gir\", \" den\", \" et\", \" nytt\", \" fors\\u00f8k\", \"?\"], \"right_text\": [\" would\", \" you\", \" mind\", \" if\", \" I\", \" gave\", \" it\", \" another\", \" shot\", \"?\"]}], \"default_filter\": \"0\", \"display_mode\": \"light\", \"root_div_id\": \"bertviz-a06bda26c23647eba650f55a160d9905\", \"include_layers\": [0], \"include_heads\": [4], \"total_heads\": 8}; // HACK: {\"attention\": [{\"name\": \"Cross\", \"attn\": [[[[0.04378778487443924, 0.2100553959608078, 0.025255093351006508, 0.0037087665405124426, 0.004290029406547546, 0.00023224555479828268, 0.005118217319250107, 0.0014629765646532178, 0.0013213236816227436, 0.07340942323207855], [0.032649848610162735, 0.11625757813453674, 0.0771188884973526, 0.001493768417276442, 0.003409304656088352, 0.0038640624843537807, 0.1422351747751236, 0.005601831711828709, 0.005080018658190966, 0.031943947076797485], [0.011692208237946033, 0.16201846301555634, 0.3328099548816681, 0.0013703550212085247, 0.001391615835018456, 0.002767974277958274, 0.008599923923611641, 0.006191542372107506, 0.0022104664240032434, 0.030526569113135338], [0.0011775087332352996, 0.0007346614147536457, 0.027088861912488937, 0.0005007648724131286, 0.0011267579393461347, 0.0017792299622669816, 0.0010229797335341573, 0.0006974099669605494, 0.008687634952366352, 0.007848077453672886], [0.023566704243421555, 0.00923861563205719, 0.008788597770035267, 0.9115387201309204, 0.00032922200625762343, 0.0009170138509944081, 0.0008276293519884348, 0.003042396856471896, 0.0004340735322330147, 0.004069321323186159], [0.01638590544462204, 0.019561732187867165, 0.03270437568426132, 0.03877473995089531, 0.7456703782081604, 0.0020607721526175737, 0.0013450800906866789, 0.004507383797317743, 0.0035722865723073483, 0.018341656774282455], [0.005918045528233051, 0.007492830976843834, 0.02990165539085865, 0.0067189838737249374, 0.02063315361738205, 0.7155452966690063, 0.004400006961077452, 0.03663794323801994, 0.005050040781497955, 0.006192841101437807], [0.008189777843654156, 0.0010952926240861416, 0.005609759595245123, 0.0027021304704248905, 0.00497285695746541, 0.03368056192994118, 0.7748976945877075, 0.01356244646012783, 0.017938535660505295, 0.018504830077290535], [0.004386380314826965, 0.003291760804131627, 0.015545323491096497, 0.0036492631770670414, 0.009170415811240673, 0.006127187050879002, 0.05265865474939346, 0.7012097239494324, 0.010574422776699066, 0.05264806002378464], [0.0004440298362169415, 0.0025927375536412, 0.01439178828150034, 0.001891778432764113, 0.005748554598540068, 0.01107354648411274, 0.008558862842619419, 0.2598692774772644, 0.0755932405591011, 0.022376401349902153], [0.013998891226947308, 0.00340126920491457, 0.03256317600607872, 0.025769716128706932, 0.0026408256962895393, 0.006273271050304174, 0.004317618906497955, 0.014014813117682934, 0.3885762691497803, 0.03915198892354965], [0.08583172410726547, 0.005290954373776913, 0.012234650552272797, 0.0019465641817077994, 0.004076869692653418, 0.002430457156151533, 0.006898540537804365, 0.012620192021131516, 0.002461309777572751, 0.739791750907898]]]], \"left_text\": [\" Er\", \" det\", \" i\", \" orden\", \" hvis\", \" jeg\", \" gir\", \" den\", \" et\", \" nytt\", \" fors\\u00f8k\", \"?\"], \"right_text\": [\" would\", \" you\", \" mind\", \" if\", \" I\", \" gave\", \" it\", \" another\", \" shot\", \"?\"]}], \"default_filter\": \"0\", \"display_mode\": \"light\", \"root_div_id\": \"bertviz-a06bda26c23647eba650f55a160d9905\", \"include_layers\": [0], \"include_heads\": [4], \"total_heads\": 8} is a template marker that is replaced by actual params.\n        const config = {};\n\n        const MIN_X = 0;\n        const MIN_Y = 0;\n        const DIV_WIDTH = 970;\n        const THUMBNAIL_PADDING = 5;\n        const DETAIL_WIDTH = 300;\n        const DETAIL_ATTENTION_WIDTH = 140;\n        const DETAIL_BOX_WIDTH = 80;\n        const DETAIL_BOX_HEIGHT = 18;\n        const DETAIL_PADDING = 15;\n        const ATTN_PADDING = 0;\n        const DETAIL_HEADING_HEIGHT = 25;\n        const HEADING_TEXT_SIZE = 15;\n        const HEADING_PADDING = 5;\n        const TEXT_SIZE = 13;\n        const TEXT_PADDING = 5;\n        const LAYER_COLORS = d3.schemeCategory10;\n        const PALETTE = {\n            'light': {\n                'text': 'black',\n                'background': 'white',\n                'highlight': '#F5F5F5'\n            },\n            'dark': {\n                'text': '#ccc',\n                'background': 'black',\n                'highlight': '#222'\n            }\n        }\n\n        function render() {\n\n            // Set global state variables\n\n            var attData = config.attention[config.filter];\n            config.leftText = attData.left_text;\n            config.rightText = attData.right_text;\n            config.attn = attData.attn;\n            config.numLayers = config.attn.length;\n            config.numHeads = config.attn[0].length;\n            config.thumbnailBoxHeight = 7 * (12 / config.totalHeads);\n            const axisSize = HEADING_TEXT_SIZE + HEADING_PADDING + TEXT_SIZE + TEXT_PADDING;\n            config.thumbnailHeight = Math.max(config.leftText.length, config.rightText.length) * config.thumbnailBoxHeight + 2 * THUMBNAIL_PADDING;\n            config.thumbnailWidth = (DIV_WIDTH - axisSize) / config.totalHeads;\n            config.detailHeight = Math.max(config.leftText.length, config.rightText.length) * DETAIL_BOX_HEIGHT + 2 * DETAIL_PADDING + DETAIL_HEADING_HEIGHT;\n            config.divHeight = Math.max(config.numLayers * config.thumbnailHeight + axisSize, config.detailHeight);\n\n            const vis = $(`#${config.rootDivId} #vis`)\n            vis.empty();\n            vis.attr(\"height\", config.divHeight);\n            config.svg = d3.select(`#${config.rootDivId} #vis`)\n                .append('svg')\n                .attr(\"width\", DIV_WIDTH)\n                .attr(\"height\", config.divHeight)\n                .attr(\"fill\", getBackgroundColor());\n\n            renderAxisLabels();\n\n            var i;\n            var j;\n            for (i = 0; i < config.numLayers; i++) {\n                for (j = 0; j < config.numHeads; j++) {\n                    renderThumbnail(i, j);\n                }\n            }\n        }\n\n        function renderAxisLabels() {\n            const axisSize = HEADING_TEXT_SIZE + HEADING_PADDING + TEXT_SIZE + TEXT_PADDING;\n            const tableWidth = config.thumbnailWidth * config.heads.length;\n            config.svg.append(\"text\")\n                .text(\"Heads\")\n                .attr(\"fill\", \"black\")\n                .attr(\"font-weight\", \"bold\")\n                .attr(\"font-size\", HEADING_TEXT_SIZE + \"px\")\n                .attr(\"x\", axisSize + tableWidth / 2)\n                .attr(\"text-anchor\", \"middle\")\n                .attr(\"y\", 0)\n                .attr(\"dy\", HEADING_TEXT_SIZE);\n            for (let i = 0; i < config.numHeads; i++) {\n                config.svg.append(\"text\")\n                    .text(config.heads[i])\n                    .attr(\"fill\", \"black\")\n                    .attr(\"font-size\", TEXT_SIZE + \"px\")\n                    .attr(\"x\", axisSize + (i + .5) * config.thumbnailWidth)\n                    .attr(\"text-anchor\", \"middle\")\n                    .attr(\"y\", HEADING_TEXT_SIZE + HEADING_PADDING)\n                    .attr(\"dy\", TEXT_SIZE);\n            }\n            let x = 0;\n            let y = axisSize + config.thumbnailHeight * config.layers.length / 2;\n            console.log(\"x\", x, y)\n            config.svg.append(\"text\")\n                .text(\"Layers\")\n                .attr(\"fill\", \"black\")\n                .attr(\"font-weight\", \"bold\")\n                .attr(\"transform\", \"rotate(270, \" + x  + \", \" + y + \")\")\n                .attr(\"font-size\", HEADING_TEXT_SIZE + \"px\")\n                .attr(\"x\", x)\n                .attr(\"text-anchor\", \"middle\")\n                .attr(\"y\", y)\n                .attr(\"dy\", HEADING_TEXT_SIZE);\n            for (let i = 0; i < config.numLayers; i++) {\n                x = HEADING_TEXT_SIZE + HEADING_PADDING + TEXT_SIZE; // HACK\n                y = axisSize + (i + .5) * config.thumbnailHeight;\n                config.svg.append(\"text\")\n                    .text(config.layers[i])\n                    .attr(\"fill\", \"black\")\n                    .attr(\"font-size\", TEXT_SIZE + \"px\")\n                    .attr(\"x\", x)\n                    .attr(\"text-anchor\", \"end\")\n                    .attr(\"y\", y)\n                    .attr(\"dy\", TEXT_SIZE / 2);\n            }\n        }\n\n\n        function renderThumbnail(layerIndex, headIndex) {\n            const axisSize = HEADING_TEXT_SIZE + HEADING_PADDING + TEXT_SIZE + TEXT_PADDING\n            const x = headIndex * config.thumbnailWidth + axisSize;\n            const y = layerIndex * config.thumbnailHeight + axisSize;\n            renderThumbnailAttn(x, y, config.attn[layerIndex][headIndex], layerIndex, headIndex);\n        }\n\n        function renderDetail(att, layerIndex, headIndex) {\n            const axisSize = TEXT_SIZE + HEADING_PADDING + TEXT_SIZE + TEXT_PADDING;\n            var xOffset = .8 * config.thumbnailWidth;\n            var maxX = DIV_WIDTH;\n            var maxY = config.divHeight - 3;\n            var leftPos = axisSize + headIndex * config.thumbnailWidth;\n            var x = leftPos + THUMBNAIL_PADDING + xOffset;\n            if (x < MIN_X) {\n                x = MIN_X;\n            } else if (x + DETAIL_WIDTH > maxX) {\n                x = leftPos + THUMBNAIL_PADDING - DETAIL_WIDTH + 8;\n            }\n            var posLeftText = x;\n            var posAttention = posLeftText + DETAIL_BOX_WIDTH;\n            var posRightText = posAttention + DETAIL_ATTENTION_WIDTH;\n            var thumbnailHeight = Math.max(config.leftText.length, config.rightText.length) * config.thumbnailBoxHeight + 2 * THUMBNAIL_PADDING;\n            var yOffset = 20;\n            var y = layerIndex * thumbnailHeight + THUMBNAIL_PADDING + yOffset;\n            if (y < MIN_Y) {\n                y = MIN_Y;\n            } else if (y + config.detailHeight > maxY) {\n                y = maxY - config.detailHeight;\n            }\n            renderDetailFrame(x, y, layerIndex);\n            y = y + DETAIL_PADDING;\n            renderDetailHeading(x, y, layerIndex, headIndex);\n            y = y + DETAIL_HEADING_HEIGHT;\n            renderDetailText(config.leftText, \"leftText\", posLeftText, y , layerIndex);\n            renderDetailAttn(posAttention, y, att, layerIndex, headIndex);\n            renderDetailText(config.rightText, \"rightText\", posRightText, y, layerIndex);\n        }\n\n        function renderDetailHeading(x, y, layerIndex, headIndex) {\n            var fillColor = getTextColor();\n            config.svg.append(\"text\")\n                .classed(\"detail\", true)\n                .text('Layer ' + config.layers[layerIndex] + \", Head \" + config.heads[headIndex])\n                .attr(\"font-size\", TEXT_SIZE + \"px\")\n                .attr(\"font-weight\", \"bold\")\n                .style(\"cursor\", \"default\")\n                .style(\"-webkit-user-select\", \"none\")\n                .attr(\"fill\", fillColor)\n                .attr(\"x\", x + DETAIL_WIDTH / 2)\n                .attr(\"text-anchor\", \"middle\")\n                .attr(\"y\", y)\n                .attr(\"height\", DETAIL_HEADING_HEIGHT)\n                .attr(\"width\", DETAIL_WIDTH)\n                .attr(\"dy\", HEADING_TEXT_SIZE);\n        }\n\n        function renderDetailText(text, id, x, y, layerIndex) {\n            var tokenContainer = config.svg.append(\"svg:g\")\n                .classed(\"detail\", true)\n                .selectAll(\"g\")\n                .data(text)\n                .enter()\n                .append(\"g\");\n\n            var fillColor = getTextColor();\n\n            tokenContainer.append(\"rect\")\n                .classed(\"highlight\", true)\n                .attr(\"fill\", fillColor)\n                .style(\"opacity\", 0.0)\n                .attr(\"height\", DETAIL_BOX_HEIGHT)\n                .attr(\"width\", DETAIL_BOX_WIDTH)\n                .attr(\"x\", x)\n                .attr(\"y\", function (d, i) {\n                    return y + i * DETAIL_BOX_HEIGHT;\n                });\n\n            var textContainer = tokenContainer.append(\"text\")\n                .classed(\"token\", true)\n                .text(function (d) {\n                    return d;\n                })\n                .attr(\"font-size\", TEXT_SIZE + \"px\")\n                .style(\"cursor\", \"default\")\n                .style(\"-webkit-user-select\", \"none\")\n                .attr(\"fill\", fillColor)\n                .attr(\"x\", x)\n                .attr(\"y\", function (d, i) {\n                    return i * DETAIL_BOX_HEIGHT + y;\n                })\n                .attr(\"height\", DETAIL_BOX_HEIGHT)\n                .attr(\"width\", DETAIL_BOX_WIDTH)\n                .attr(\"dy\", TEXT_SIZE);\n\n            if (id == \"leftText\") {\n                textContainer.style(\"text-anchor\", \"end\")\n                    .attr(\"dx\", DETAIL_BOX_WIDTH - 2);\n                tokenContainer.on(\"mouseover\", function (d, index) {\n                    highlightSelection(index);\n                });\n                tokenContainer.on(\"mouseleave\", function () {\n                    unhighlightSelection();\n                });\n            }\n        }\n\n        function highlightSelection(index) {\n            config.svg.select(\"#leftText\")\n                .selectAll(\".highlight\")\n                .style(\"opacity\", function (d, i) {\n                    return i == index ? 1.0 : 0.0;\n                });\n            config.svg.selectAll(\".attn-line-group\")\n                .style(\"opacity\", function (d, i) {\n                    return i == index ? 1.0 : 0.0;\n                });\n        }\n\n        function unhighlightSelection() {\n            config.svg.select(\"#leftText\")\n                .selectAll(\".highlight\")\n                .style(\"opacity\", 0.0);\n            config.svg.selectAll(\".attn-line-group\")\n                .style(\"opacity\", 1);\n        }\n\n        function renderThumbnailAttn(x, y, att, layerIndex, headIndex) {\n\n            var attnContainer = config.svg.append(\"svg:g\");\n\n            var attnBackground = attnContainer.append(\"rect\")\n                .attr(\"id\", 'attn_background_' + layerIndex + \"_\" + headIndex)\n                .classed(\"attn_background\", true)\n                .attr(\"x\", x)\n                .attr(\"y\", y)\n                .attr(\"height\", config.thumbnailHeight)\n                .attr(\"width\", config.thumbnailWidth)\n                .attr(\"stroke-width\", 2)\n                .attr(\"stroke\", getLayerColor(layerIndex))\n                .attr(\"stroke-opacity\", 0)\n                .attr(\"fill\", getBackgroundColor());\n            var x1 = x + THUMBNAIL_PADDING;\n            var x2 = x1 + config.thumbnailWidth - 14;\n            var y1 = y + THUMBNAIL_PADDING;\n\n            attnContainer.selectAll(\"g\")\n                .data(att)\n                .enter()\n                .append(\"g\") // Add group for each source token\n                .attr(\"source-index\", function (d, i) { // Save index of source token\n                    return i;\n                })\n                .selectAll(\"line\")\n                .data(function (d) { // Loop over all target tokens\n                    return d;\n                })\n                .enter() // When entering\n                .append(\"line\")\n                .attr(\"x1\", x1)\n                .attr(\"y1\", function (d) {\n                    var sourceIndex = +this.parentNode.getAttribute(\"source-index\");\n                    return y1 + (sourceIndex + .5) * config.thumbnailBoxHeight;\n                })\n                .attr(\"x2\", x2)\n                .attr(\"y2\", function (d, targetIndex) {\n                    return y1 + (targetIndex + .5) * config.thumbnailBoxHeight;\n                })\n                .attr(\"stroke-width\", 2.2)\n                .attr(\"stroke\", getLayerColor(layerIndex))\n                .attr(\"stroke-opacity\", function (d) {\n                    return d;\n                });\n\n            var clickRegion = attnContainer.append(\"rect\")\n                .attr(\"x\", x)\n                .attr(\"y\", y)\n                .attr(\"height\", config.thumbnailHeight)\n                .attr(\"width\", config.thumbnailWidth)\n                .style(\"opacity\", 0);\n\n            clickRegion.on(\"click\", function (d, index) {\n                var attnBackgroundOther = config.svg.selectAll(\".attn_background\");\n                attnBackgroundOther.attr(\"fill\", getBackgroundColor());\n                attnBackgroundOther.attr(\"stroke-opacity\", 0);\n\n                config.svg.selectAll(\".detail\").remove();\n                if (config.detail_layer != layerIndex || config.detail_head != headIndex) {\n                    renderDetail(att, layerIndex, headIndex);\n                    config.detail_layer = layerIndex;\n                    config.detail_head = headIndex;\n                    attnBackground.attr(\"fill\", getHighlightColor());\n                    attnBackground.attr(\"stroke-opacity\", .8);\n                } else {\n                    config.detail_layer = null;\n                    config.detail_head = null;\n                    attnBackground.attr(\"fill\", getBackgroundColor());\n                    attnBackground.attr(\"stroke-opacity\", 0);\n                }\n            });\n\n            clickRegion.on(\"mouseover\", function (d) {\n                d3.select(this).style(\"cursor\", \"pointer\");\n            });\n        }\n\n        function renderDetailFrame(x, y, layerIndex) {\n            var detailFrame = config.svg.append(\"rect\")\n                .classed(\"detail\", true)\n                .attr(\"x\", x)\n                .attr(\"y\", y)\n                .attr(\"height\", config.detailHeight)\n                .attr(\"width\", DETAIL_WIDTH)\n                .style(\"opacity\", 1)\n                .attr(\"stroke-width\", 1.5)\n                .attr(\"stroke-opacity\", 0.7)\n                .attr(\"stroke\", getLayerColor(layerIndex));\n        }\n\n        function renderDetailAttn(x, y, att, layerIndex) {\n            var attnContainer = config.svg.append(\"svg:g\")\n                .classed(\"detail\", true)\n                .attr(\"pointer-events\", \"none\");\n            attnContainer.selectAll(\"g\")\n                .data(att)\n                .enter()\n                .append(\"g\") // Add group for each source token\n                .classed('attn-line-group', true)\n                .attr(\"source-index\", function (d, i) { // Save index of source token\n                    return i;\n                })\n                .selectAll(\"line\")\n                .data(function (d) { // Loop over all target tokens\n                    return d;\n                })\n                .enter()\n                .append(\"line\")\n                .attr(\"x1\", x + ATTN_PADDING)\n                .attr(\"y1\", function (d) {\n                    var sourceIndex = +this.parentNode.getAttribute(\"source-index\");\n                    return y + (sourceIndex + .5) * DETAIL_BOX_HEIGHT;\n                })\n                .attr(\"x2\", x + DETAIL_ATTENTION_WIDTH - ATTN_PADDING)\n                .attr(\"y2\", function (d, targetIndex) {\n                    return y + (targetIndex + .5) * DETAIL_BOX_HEIGHT;\n                })\n                .attr(\"stroke-width\", 2.2)\n                .attr(\"stroke\", getLayerColor(layerIndex))\n                .attr(\"stroke-opacity\", function (d) {\n                    return d;\n                });\n        }\n\n        function getLayerColor(layer) {\n          return LAYER_COLORS[config.layers[layer] % 10];\n        }\n\n        function getTextColor() {\n            return PALETTE[config.mode]['text']\n        }\n\n        function getBackgroundColor() {\n           return PALETTE[config.mode]['background']\n        }\n\n        function getHighlightColor() {\n           return PALETTE[config.mode]['highlight']\n        }\n\n        function initialize() {\n            config.attention = params['attention'];\n            config.filter = params['default_filter'];\n            config.mode = params['display_mode'];\n            config.layers = params['include_layers']\n            config.heads = params['include_heads']\n            config.totalHeads = params['total_heads']\n            config.rootDivId = params['root_div_id'];\n            $(`#${config.rootDivId} #filter`).on('change', function (e) {\n                config.filter = e.currentTarget.value;\n                render();\n            });\n        }\n\n        initialize();\n        render();\n\n    });",
      "text/plain": [
       "<IPython.core.display.Javascript object>"
      ]
     },
     "metadata": {},
     "output_type": "display_data"
    }
   ],
   "source": [
    "txt = \"would you mind if I gave it another shot?\"\n",
    "encoder_input_ids = tokenizer(f\">>nob<< {txt}\", return_tensors=\"pt\", add_special_tokens=True).input_ids\n",
    "token_ids = model.generate(encoder_input_ids, length_penalty=-1.0, max_length=len(txt))\n",
    "translated = tokenizer.decode(token_ids[0], skip_special_tokens=True)\n",
    "print(translated)\n",
    "with tokenizer.as_target_tokenizer():\n",
    "    decoder_input_ids = tokenizer(translated, return_tensors=\"pt\", add_special_tokens=True).input_ids\n",
    "outputs = model(input_ids=encoder_input_ids, decoder_input_ids=decoder_input_ids)\n",
    "encoder_text = tokenizer.convert_ids_to_tokens(encoder_input_ids[0][:])\n",
    "decoder_text = tokenizer.convert_ids_to_tokens(decoder_input_ids[0][:])\n",
    "# rework the decoder attentions to skip the first value:\n",
    "dec_att = [att[:, :, :-1, :-1] for att in outputs.decoder_attentions]\n",
    "enc_att = [att[:, :, 1:-1, 1:-1] for att in outputs.encoder_attentions]\n",
    "\n",
    "# how can the cross attention be visualized, when we have removed tokens:\n",
    "enc_txt = encoder_text[1:-1]\n",
    "dec_txt = decoder_text[:-1]\n",
    "print(f\"Enc: {len(enc_txt)}, Dec: {len(dec_txt)}\")\n",
    "cross_att = [att[:, :, :-1, 1:-1] for att in outputs.cross_attentions]\n",
    "print(cross_att[0].shape)\n",
    "\n",
    "model_view(\n",
    "    # encoder_attention=enc_att,\n",
    "    # decoder_attention=dec_att,\n",
    "    cross_attention=cross_att,\n",
    "    encoder_tokens=enc_txt,\n",
    "    decoder_tokens=dec_txt,\n",
    "    display_mode=\"light\",\n",
    "    include_layers=[0],\n",
    "    include_heads=[4],\n",
    ")"
   ]
  },
  {
   "cell_type": "markdown",
   "metadata": {},
   "source": [
    "# Some findings:\n",
    "\n",
    "Head #4 was found to convey a good explanation of the attention towards concepts and semantic meaning. We thus illustrate the different compression models on the same sentence, to illustrate how the models attend differently to parts of the source sentence."
   ]
  }
 ],
 "metadata": {
  "kernelspec": {
   "display_name": "simcse",
   "language": "python",
   "name": "python3"
  },
  "language_info": {
   "codemirror_mode": {
    "name": "ipython",
    "version": 3
   },
   "file_extension": ".py",
   "mimetype": "text/x-python",
   "name": "python",
   "nbconvert_exporter": "python",
   "pygments_lexer": "ipython3",
   "version": "3.10.12"
  },
  "orig_nbformat": 4
 },
 "nbformat": 4,
 "nbformat_minor": 2
}
